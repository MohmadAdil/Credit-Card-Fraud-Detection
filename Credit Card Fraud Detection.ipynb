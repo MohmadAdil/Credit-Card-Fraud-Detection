{
 "cells": [
  {
   "cell_type": "code",
   "execution_count": 149,
   "id": "45a0aa5d",
   "metadata": {},
   "outputs": [],
   "source": [
    "import pandas as pd\n",
    "import numpy as np\n",
    "import matplotlib.pyplot as plt\n",
    "import seaborn as sns"
   ]
  },
  {
   "cell_type": "code",
   "execution_count": 150,
   "id": "08143329",
   "metadata": {},
   "outputs": [
    {
     "data": {
      "text/html": [
       "<div>\n",
       "<style scoped>\n",
       "    .dataframe tbody tr th:only-of-type {\n",
       "        vertical-align: middle;\n",
       "    }\n",
       "\n",
       "    .dataframe tbody tr th {\n",
       "        vertical-align: top;\n",
       "    }\n",
       "\n",
       "    .dataframe thead th {\n",
       "        text-align: right;\n",
       "    }\n",
       "</style>\n",
       "<table border=\"1\" class=\"dataframe\">\n",
       "  <thead>\n",
       "    <tr style=\"text-align: right;\">\n",
       "      <th></th>\n",
       "      <th>User</th>\n",
       "      <th>Card</th>\n",
       "      <th>Year</th>\n",
       "      <th>Month</th>\n",
       "      <th>Day</th>\n",
       "      <th>Time</th>\n",
       "      <th>Amount</th>\n",
       "      <th>Use Chip</th>\n",
       "      <th>Merchant Name</th>\n",
       "      <th>Merchant City</th>\n",
       "      <th>Merchant State</th>\n",
       "      <th>Zip</th>\n",
       "      <th>MCC</th>\n",
       "      <th>Fraud</th>\n",
       "    </tr>\n",
       "  </thead>\n",
       "  <tbody>\n",
       "    <tr>\n",
       "      <th>0</th>\n",
       "      <td>1</td>\n",
       "      <td>1</td>\n",
       "      <td>2005</td>\n",
       "      <td>9</td>\n",
       "      <td>6</td>\n",
       "      <td>19:18:00</td>\n",
       "      <td>16.68</td>\n",
       "      <td>Swipe Transaction</td>\n",
       "      <td>Ross Package Store</td>\n",
       "      <td>Berkley</td>\n",
       "      <td>MI</td>\n",
       "      <td>48072.0</td>\n",
       "      <td>5921</td>\n",
       "      <td>No</td>\n",
       "    </tr>\n",
       "    <tr>\n",
       "      <th>1</th>\n",
       "      <td>1</td>\n",
       "      <td>1</td>\n",
       "      <td>2005</td>\n",
       "      <td>9</td>\n",
       "      <td>9</td>\n",
       "      <td>08:56:00</td>\n",
       "      <td>224.70</td>\n",
       "      <td>Online Transaction</td>\n",
       "      <td>Digital Delivery Company 7</td>\n",
       "      <td>ONLINE</td>\n",
       "      <td>ND</td>\n",
       "      <td>NaN</td>\n",
       "      <td>4899</td>\n",
       "      <td>No</td>\n",
       "    </tr>\n",
       "    <tr>\n",
       "      <th>2</th>\n",
       "      <td>1</td>\n",
       "      <td>1</td>\n",
       "      <td>2005</td>\n",
       "      <td>9</td>\n",
       "      <td>9</td>\n",
       "      <td>16:23:00</td>\n",
       "      <td>145.61</td>\n",
       "      <td>Online Transaction</td>\n",
       "      <td>Travel Booking Company 4</td>\n",
       "      <td>ONLINE</td>\n",
       "      <td>ND</td>\n",
       "      <td>NaN</td>\n",
       "      <td>4722</td>\n",
       "      <td>No</td>\n",
       "    </tr>\n",
       "    <tr>\n",
       "      <th>3</th>\n",
       "      <td>1</td>\n",
       "      <td>1</td>\n",
       "      <td>2005</td>\n",
       "      <td>9</td>\n",
       "      <td>9</td>\n",
       "      <td>16:35:00</td>\n",
       "      <td>229.21</td>\n",
       "      <td>Swipe Transaction</td>\n",
       "      <td>Car Rental Company 4</td>\n",
       "      <td>Belleville</td>\n",
       "      <td>MI</td>\n",
       "      <td>48111.0</td>\n",
       "      <td>3405</td>\n",
       "      <td>No</td>\n",
       "    </tr>\n",
       "    <tr>\n",
       "      <th>4</th>\n",
       "      <td>1</td>\n",
       "      <td>1</td>\n",
       "      <td>2005</td>\n",
       "      <td>9</td>\n",
       "      <td>9</td>\n",
       "      <td>19:55:00</td>\n",
       "      <td>11.00</td>\n",
       "      <td>Swipe Transaction</td>\n",
       "      <td>Supermarket Chain 3</td>\n",
       "      <td>Southfield</td>\n",
       "      <td>MI</td>\n",
       "      <td>48075.0</td>\n",
       "      <td>5411</td>\n",
       "      <td>No</td>\n",
       "    </tr>\n",
       "  </tbody>\n",
       "</table>\n",
       "</div>"
      ],
      "text/plain": [
       "   User  Card  Year  Month  Day      Time  Amount             Use Chip  \\\n",
       "0     1     1  2005      9    6  19:18:00    16.68   Swipe Transaction   \n",
       "1     1     1  2005      9    9  08:56:00   224.70  Online Transaction   \n",
       "2     1     1  2005      9    9  16:23:00   145.61  Online Transaction   \n",
       "3     1     1  2005      9    9  16:35:00   229.21   Swipe Transaction   \n",
       "4     1     1  2005      9    9  19:55:00    11.00   Swipe Transaction   \n",
       "\n",
       "                Merchant Name Merchant City Merchant State      Zip   MCC  \\\n",
       "0          Ross Package Store       Berkley             MI  48072.0  5921   \n",
       "1  Digital Delivery Company 7        ONLINE             ND      NaN  4899   \n",
       "2    Travel Booking Company 4        ONLINE             ND      NaN  4722   \n",
       "3        Car Rental Company 4    Belleville             MI  48111.0  3405   \n",
       "4         Supermarket Chain 3    Southfield             MI  48075.0  5411   \n",
       "\n",
       "  Fraud  \n",
       "0    No  \n",
       "1    No  \n",
       "2    No  \n",
       "3    No  \n",
       "4    No  "
      ]
     },
     "execution_count": 150,
     "metadata": {},
     "output_type": "execute_result"
    }
   ],
   "source": [
    "cf=pd.read_csv(\"../CCF.csv\")\n",
    "cf.head()"
   ]
  },
  {
   "cell_type": "code",
   "execution_count": 151,
   "id": "b326dbfc",
   "metadata": {},
   "outputs": [
    {
     "data": {
      "text/plain": [
       "Fraud\n",
       "0    691048\n",
       "1       872\n",
       "Name: count, dtype: int64"
      ]
     },
     "execution_count": 151,
     "metadata": {},
     "output_type": "execute_result"
    }
   ],
   "source": [
    "cf['Fraud']=np.where(cf['Fraud']=='Yes',1,0)\n",
    "cf.value_counts('Fraud')"
   ]
  },
  {
   "cell_type": "code",
   "execution_count": 152,
   "id": "ec3b3e50",
   "metadata": {},
   "outputs": [
    {
     "name": "stdout",
     "output_type": "stream",
     "text": [
      "<class 'pandas.core.frame.DataFrame'>\n",
      "RangeIndex: 691920 entries, 0 to 691919\n",
      "Data columns (total 14 columns):\n",
      " #   Column          Non-Null Count   Dtype  \n",
      "---  ------          --------------   -----  \n",
      " 0   User            691920 non-null  int64  \n",
      " 1   Card            691920 non-null  int64  \n",
      " 2   Year            691920 non-null  int64  \n",
      " 3   Month           691920 non-null  int64  \n",
      " 4   Day             691920 non-null  int64  \n",
      " 5   Time            691920 non-null  object \n",
      " 6   Amount          691920 non-null  float64\n",
      " 7   Use Chip        691920 non-null  object \n",
      " 8   Merchant Name   691920 non-null  object \n",
      " 9   Merchant City   691920 non-null  object \n",
      " 10  Merchant State  691920 non-null  object \n",
      " 11  Zip             614064 non-null  float64\n",
      " 12  MCC             691920 non-null  int64  \n",
      " 13  Fraud           691920 non-null  int32  \n",
      "dtypes: float64(2), int32(1), int64(6), object(5)\n",
      "memory usage: 71.3+ MB\n"
     ]
    }
   ],
   "source": [
    "cf.info()"
   ]
  },
  {
   "cell_type": "code",
   "execution_count": 153,
   "id": "a4985479",
   "metadata": {},
   "outputs": [
    {
     "data": {
      "image/png": "[encoded data removed]",
      "text/plain": [
       "<Figure size 300x300 with 1 Axes>"
      ]
     },
     "metadata": {},
     "output_type": "display_data"
    }
   ],
   "source": [
    "sns.set_style(\"whitegrid\")\n",
    "plt.figure(figsize=(3,3))\n",
    "labels=['No','Yes']\n",
    "plt.pie(cf['Fraud'].value_counts() , labels=labels ,autopct='%1.1f%%')\n",
    "plt.show()"
   ]
  },
  {
   "cell_type": "code",
   "execution_count": 154,
   "id": "595a9503",
   "metadata": {},
   "outputs": [],
   "source": [
    "from sklearn.utils import resample"
   ]
  },
  {
   "cell_type": "code",
   "execution_count": 155,
   "id": "3ed04f75",
   "metadata": {},
   "outputs": [],
   "source": [
    "df_minority=cf[cf['Fraud']==1]\n",
    "df_majority=cf[cf['Fraud']==0]"
   ]
  },
  {
   "cell_type": "code",
   "execution_count": 156,
   "id": "1e85792b",
   "metadata": {},
   "outputs": [
    {
     "data": {
      "text/plain": [
       "(691048, 14)"
      ]
     },
     "execution_count": 156,
     "metadata": {},
     "output_type": "execute_result"
    }
   ],
   "source": [
    "df_majority.shape"
   ]
  },
  {
   "cell_type": "code",
   "execution_count": 157,
   "id": "60df3846",
   "metadata": {},
   "outputs": [
    {
     "data": {
      "text/plain": [
       "(872, 14)"
      ]
     },
     "execution_count": 157,
     "metadata": {},
     "output_type": "execute_result"
    }
   ],
   "source": [
    "df_minority.shape"
   ]
  },
  {
   "cell_type": "code",
   "execution_count": 158,
   "id": "3eabd888",
   "metadata": {},
   "outputs": [],
   "source": [
    "df_majority_down=resample(df_majority,replace=False,n_samples=len(df_minority),random_state=33)"
   ]
  },
  {
   "cell_type": "code",
   "execution_count": 159,
   "id": "b2246976",
   "metadata": {},
   "outputs": [
    {
     "data": {
      "text/plain": [
       "(872, 14)"
      ]
     },
     "execution_count": 159,
     "metadata": {},
     "output_type": "execute_result"
    }
   ],
   "source": [
    "df_majority_down.shape"
   ]
  },
  {
   "cell_type": "code",
   "execution_count": 160,
   "id": "415e32d5",
   "metadata": {},
   "outputs": [],
   "source": [
    "df=pd.concat([df_minority,df_majority_down])"
   ]
  },
  {
   "cell_type": "code",
   "execution_count": 161,
   "id": "7ef72ead",
   "metadata": {},
   "outputs": [
    {
     "data": {
      "text/plain": [
       "(1744, 14)"
      ]
     },
     "execution_count": 161,
     "metadata": {},
     "output_type": "execute_result"
    }
   ],
   "source": [
    "df.shape"
   ]
  },
  {
   "cell_type": "code",
   "execution_count": 162,
   "id": "3a2e72ed",
   "metadata": {},
   "outputs": [
    {
     "data": {
      "text/html": [
       "<div>\n",
       "<style scoped>\n",
       "    .dataframe tbody tr th:only-of-type {\n",
       "        vertical-align: middle;\n",
       "    }\n",
       "\n",
       "    .dataframe tbody tr th {\n",
       "        vertical-align: top;\n",
       "    }\n",
       "\n",
       "    .dataframe thead th {\n",
       "        text-align: right;\n",
       "    }\n",
       "</style>\n",
       "<table border=\"1\" class=\"dataframe\">\n",
       "  <thead>\n",
       "    <tr style=\"text-align: right;\">\n",
       "      <th></th>\n",
       "      <th>User</th>\n",
       "      <th>Card</th>\n",
       "      <th>Year</th>\n",
       "      <th>Month</th>\n",
       "      <th>Day</th>\n",
       "      <th>Time</th>\n",
       "      <th>Amount</th>\n",
       "      <th>Use Chip</th>\n",
       "      <th>Merchant Name</th>\n",
       "      <th>Merchant City</th>\n",
       "      <th>Merchant State</th>\n",
       "      <th>Zip</th>\n",
       "      <th>MCC</th>\n",
       "      <th>Fraud</th>\n",
       "    </tr>\n",
       "  </thead>\n",
       "  <tbody>\n",
       "    <tr>\n",
       "      <th>289</th>\n",
       "      <td>2</td>\n",
       "      <td>1</td>\n",
       "      <td>2012</td>\n",
       "      <td>9</td>\n",
       "      <td>25</td>\n",
       "      <td>17:20:00</td>\n",
       "      <td>159.91</td>\n",
       "      <td>Swipe Transaction</td>\n",
       "      <td>Kelly Discounters</td>\n",
       "      <td>Tegucigalpa</td>\n",
       "      <td>Honduras</td>\n",
       "      <td>NaN</td>\n",
       "      <td>5310</td>\n",
       "      <td>1</td>\n",
       "    </tr>\n",
       "    <tr>\n",
       "      <th>1265</th>\n",
       "      <td>3</td>\n",
       "      <td>3</td>\n",
       "      <td>2016</td>\n",
       "      <td>12</td>\n",
       "      <td>11</td>\n",
       "      <td>14:46:00</td>\n",
       "      <td>6.83</td>\n",
       "      <td>Chip Transaction</td>\n",
       "      <td>Rivera Supermarket</td>\n",
       "      <td>Caracas</td>\n",
       "      <td>Venezuela</td>\n",
       "      <td>NaN</td>\n",
       "      <td>5411</td>\n",
       "      <td>1</td>\n",
       "    </tr>\n",
       "    <tr>\n",
       "      <th>1266</th>\n",
       "      <td>3</td>\n",
       "      <td>3</td>\n",
       "      <td>2016</td>\n",
       "      <td>12</td>\n",
       "      <td>11</td>\n",
       "      <td>17:05:00</td>\n",
       "      <td>15.00</td>\n",
       "      <td>Online Transaction</td>\n",
       "      <td>Fast Food Chain 15</td>\n",
       "      <td>ONLINE</td>\n",
       "      <td>ND</td>\n",
       "      <td>NaN</td>\n",
       "      <td>5814</td>\n",
       "      <td>1</td>\n",
       "    </tr>\n",
       "    <tr>\n",
       "      <th>2442</th>\n",
       "      <td>6</td>\n",
       "      <td>1</td>\n",
       "      <td>2012</td>\n",
       "      <td>4</td>\n",
       "      <td>25</td>\n",
       "      <td>17:02:00</td>\n",
       "      <td>131.83</td>\n",
       "      <td>Swipe Transaction</td>\n",
       "      <td>Peres Amman Wholesale</td>\n",
       "      <td>Amman</td>\n",
       "      <td>Jordan</td>\n",
       "      <td>NaN</td>\n",
       "      <td>5310</td>\n",
       "      <td>1</td>\n",
       "    </tr>\n",
       "    <tr>\n",
       "      <th>4198</th>\n",
       "      <td>13</td>\n",
       "      <td>2</td>\n",
       "      <td>2008</td>\n",
       "      <td>6</td>\n",
       "      <td>29</td>\n",
       "      <td>09:45:00</td>\n",
       "      <td>19.17</td>\n",
       "      <td>Swipe Transaction</td>\n",
       "      <td>Department Store 10</td>\n",
       "      <td>Istanbul</td>\n",
       "      <td>Turkey</td>\n",
       "      <td>NaN</td>\n",
       "      <td>5311</td>\n",
       "      <td>1</td>\n",
       "    </tr>\n",
       "  </tbody>\n",
       "</table>\n",
       "</div>"
      ],
      "text/plain": [
       "      User  Card  Year  Month  Day      Time  Amount             Use Chip  \\\n",
       "289      2     1  2012      9   25  17:20:00   159.91   Swipe Transaction   \n",
       "1265     3     3  2016     12   11  14:46:00     6.83    Chip Transaction   \n",
       "1266     3     3  2016     12   11  17:05:00    15.00  Online Transaction   \n",
       "2442     6     1  2012      4   25  17:02:00   131.83   Swipe Transaction   \n",
       "4198    13     2  2008      6   29  09:45:00    19.17   Swipe Transaction   \n",
       "\n",
       "              Merchant Name Merchant City Merchant State  Zip   MCC  Fraud  \n",
       "289       Kelly Discounters   Tegucigalpa       Honduras  NaN  5310      1  \n",
       "1265     Rivera Supermarket       Caracas      Venezuela  NaN  5411      1  \n",
       "1266     Fast Food Chain 15        ONLINE             ND  NaN  5814      1  \n",
       "2442  Peres Amman Wholesale         Amman         Jordan  NaN  5310      1  \n",
       "4198    Department Store 10      Istanbul         Turkey  NaN  5311      1  "
      ]
     },
     "execution_count": 162,
     "metadata": {},
     "output_type": "execute_result"
    }
   ],
   "source": [
    "df.head()"
   ]
  },
  {
   "cell_type": "code",
   "execution_count": 163,
   "id": "357a84f8",
   "metadata": {},
   "outputs": [
    {
     "data": {
      "text/plain": [
       "Fraud\n",
       "0    872\n",
       "1    872\n",
       "Name: count, dtype: int64"
      ]
     },
     "execution_count": 163,
     "metadata": {},
     "output_type": "execute_result"
    }
   ],
   "source": [
    "df.value_counts('Fraud')"
   ]
  },
  {
   "cell_type": "code",
   "execution_count": 164,
   "id": "a8ff56dd",
   "metadata": {},
   "outputs": [
    {
     "data": {
      "text/plain": [
       "65"
      ]
     },
     "execution_count": 164,
     "metadata": {},
     "output_type": "execute_result"
    }
   ],
   "source": [
    "len(df['Merchant State'].unique())"
   ]
  },
  {
   "cell_type": "code",
   "execution_count": 165,
   "id": "e45a5ac5",
   "metadata": {},
   "outputs": [
    {
     "data": {
      "text/plain": [
       "{'ND': 351,\n",
       " 'CA': 144,\n",
       " 'Honduras': 104,\n",
       " 'Turkey': 103,\n",
       " 'PA': 79,\n",
       " 'Bulgaria': 78,\n",
       " 'NY': 67,\n",
       " 'GA': 62,\n",
       " 'TX': 54,\n",
       " 'FL': 46,\n",
       " 'Jordan': 38,\n",
       " 'OH': 36,\n",
       " 'IL': 36,\n",
       " 'Mexico': 31,\n",
       " 'MO': 29,\n",
       " 'NC': 27,\n",
       " 'MI': 26,\n",
       " 'Venezuela': 25,\n",
       " 'MA': 22,\n",
       " 'NJ': 21,\n",
       " 'CO': 19,\n",
       " 'MD': 18,\n",
       " 'MN': 18,\n",
       " 'TN': 17,\n",
       " 'AL': 16,\n",
       " 'AZ': 15,\n",
       " 'VA': 15,\n",
       " 'SC': 14,\n",
       " 'India': 14,\n",
       " 'WA': 14,\n",
       " 'WI': 14,\n",
       " 'IN': 13,\n",
       " 'KS': 13,\n",
       " 'AR': 12,\n",
       " 'Russia': 11,\n",
       " 'CT': 11,\n",
       " 'South Africa': 10,\n",
       " 'OK': 9,\n",
       " 'UT': 9,\n",
       " 'Guyana': 9,\n",
       " 'IA': 8,\n",
       " 'LA': 8,\n",
       " 'NV': 8,\n",
       " 'OR': 8,\n",
       " 'Colombia': 7,\n",
       " 'NM': 6,\n",
       " 'HI': 6,\n",
       " 'MS': 6,\n",
       " 'ID': 5,\n",
       " 'KY': 5,\n",
       " 'WV': 4,\n",
       " 'MT': 4,\n",
       " 'DC': 3,\n",
       " 'DE': 2,\n",
       " 'Ukraine': 2,\n",
       " 'Seychelles': 2,\n",
       " 'SD': 2,\n",
       " 'ME': 1,\n",
       " 'RI': 1,\n",
       " 'Jamaica': 1,\n",
       " 'France': 1,\n",
       " 'WY': 1,\n",
       " 'NH': 1,\n",
       " 'Madagascar': 1,\n",
       " 'Dominican Republic': 1}"
      ]
     },
     "execution_count": 165,
     "metadata": {},
     "output_type": "execute_result"
    }
   ],
   "source": [
    "df['Merchant State'].value_counts().to_dict()"
   ]
  },
  {
   "cell_type": "code",
   "execution_count": 166,
   "id": "05903055",
   "metadata": {},
   "outputs": [],
   "source": [
    "df_map=df['Merchant State'].value_counts().to_dict()"
   ]
  },
  {
   "cell_type": "code",
   "execution_count": 167,
   "id": "ffc82094",
   "metadata": {},
   "outputs": [],
   "source": [
    "df['Merchant State']=df['Merchant State'].map(df_map)"
   ]
  },
  {
   "cell_type": "code",
   "execution_count": 168,
   "id": "95d4e444",
   "metadata": {},
   "outputs": [
    {
     "name": "stdout",
     "output_type": "stream",
     "text": [
      "<class 'pandas.core.frame.DataFrame'>\n",
      "Index: 1744 entries, 289 to 6719\n",
      "Data columns (total 14 columns):\n",
      " #   Column          Non-Null Count  Dtype  \n",
      "---  ------          --------------  -----  \n",
      " 0   User            1744 non-null   int64  \n",
      " 1   Card            1744 non-null   int64  \n",
      " 2   Year            1744 non-null   int64  \n",
      " 3   Month           1744 non-null   int64  \n",
      " 4   Day             1744 non-null   int64  \n",
      " 5   Time            1744 non-null   object \n",
      " 6   Amount          1744 non-null   float64\n",
      " 7   Use Chip        1744 non-null   object \n",
      " 8   Merchant Name   1744 non-null   object \n",
      " 9   Merchant City   1744 non-null   object \n",
      " 10  Merchant State  1744 non-null   int64  \n",
      " 11  Zip             960 non-null    float64\n",
      " 12  MCC             1744 non-null   int64  \n",
      " 13  Fraud           1744 non-null   int32  \n",
      "dtypes: float64(2), int32(1), int64(7), object(4)\n",
      "memory usage: 197.6+ KB\n"
     ]
    }
   ],
   "source": [
    "df.info()"
   ]
  },
  {
   "cell_type": "code",
   "execution_count": 169,
   "id": "67297adb",
   "metadata": {},
   "outputs": [
    {
     "data": {
      "text/plain": [
       "{'Swipe Transaction': 984, 'Chip Transaction': 414, 'Online Transaction': 346}"
      ]
     },
     "execution_count": 169,
     "metadata": {},
     "output_type": "execute_result"
    }
   ],
   "source": [
    "df['Use Chip'].value_counts().to_dict()"
   ]
  },
  {
   "cell_type": "code",
   "execution_count": 170,
   "id": "0ed8e552",
   "metadata": {},
   "outputs": [
    {
     "data": {
      "text/plain": [
       "3"
      ]
     },
     "execution_count": 170,
     "metadata": {},
     "output_type": "execute_result"
    }
   ],
   "source": [
    "len(df['Use Chip'].unique())"
   ]
  },
  {
   "cell_type": "code",
   "execution_count": 171,
   "id": "2e1df216",
   "metadata": {},
   "outputs": [],
   "source": [
    "cc=pd.get_dummies(df['Use Chip'],columns=True)"
   ]
  },
  {
   "cell_type": "code",
   "execution_count": 172,
   "id": "a3ccf61d",
   "metadata": {},
   "outputs": [],
   "source": [
    "cc['Chip Transaction']=np.where(cc['Chip Transaction']==False,0,1)      \n",
    "cc['Online Transaction']=np.where(cc['Online Transaction']==False,0,1)\n",
    "cc['Swipe Transaction']=np.where(cc['Swipe Transaction']==False,0,1)"
   ]
  },
  {
   "cell_type": "code",
   "execution_count": 173,
   "id": "f8d1cbcd",
   "metadata": {},
   "outputs": [
    {
     "data": {
      "text/html": [
       "<div>\n",
       "<style scoped>\n",
       "    .dataframe tbody tr th:only-of-type {\n",
       "        vertical-align: middle;\n",
       "    }\n",
       "\n",
       "    .dataframe tbody tr th {\n",
       "        vertical-align: top;\n",
       "    }\n",
       "\n",
       "    .dataframe thead th {\n",
       "        text-align: right;\n",
       "    }\n",
       "</style>\n",
       "<table border=\"1\" class=\"dataframe\">\n",
       "  <thead>\n",
       "    <tr style=\"text-align: right;\">\n",
       "      <th></th>\n",
       "      <th>Chip Transaction</th>\n",
       "      <th>Online Transaction</th>\n",
       "      <th>Swipe Transaction</th>\n",
       "    </tr>\n",
       "  </thead>\n",
       "  <tbody>\n",
       "    <tr>\n",
       "      <th>289</th>\n",
       "      <td>0</td>\n",
       "      <td>0</td>\n",
       "      <td>1</td>\n",
       "    </tr>\n",
       "    <tr>\n",
       "      <th>1265</th>\n",
       "      <td>1</td>\n",
       "      <td>0</td>\n",
       "      <td>0</td>\n",
       "    </tr>\n",
       "    <tr>\n",
       "      <th>1266</th>\n",
       "      <td>0</td>\n",
       "      <td>1</td>\n",
       "      <td>0</td>\n",
       "    </tr>\n",
       "    <tr>\n",
       "      <th>2442</th>\n",
       "      <td>0</td>\n",
       "      <td>0</td>\n",
       "      <td>1</td>\n",
       "    </tr>\n",
       "    <tr>\n",
       "      <th>4198</th>\n",
       "      <td>0</td>\n",
       "      <td>0</td>\n",
       "      <td>1</td>\n",
       "    </tr>\n",
       "    <tr>\n",
       "      <th>...</th>\n",
       "      <td>...</td>\n",
       "      <td>...</td>\n",
       "      <td>...</td>\n",
       "    </tr>\n",
       "    <tr>\n",
       "      <th>252586</th>\n",
       "      <td>0</td>\n",
       "      <td>0</td>\n",
       "      <td>1</td>\n",
       "    </tr>\n",
       "    <tr>\n",
       "      <th>114637</th>\n",
       "      <td>1</td>\n",
       "      <td>0</td>\n",
       "      <td>0</td>\n",
       "    </tr>\n",
       "    <tr>\n",
       "      <th>395897</th>\n",
       "      <td>1</td>\n",
       "      <td>0</td>\n",
       "      <td>0</td>\n",
       "    </tr>\n",
       "    <tr>\n",
       "      <th>85239</th>\n",
       "      <td>0</td>\n",
       "      <td>0</td>\n",
       "      <td>1</td>\n",
       "    </tr>\n",
       "    <tr>\n",
       "      <th>6719</th>\n",
       "      <td>1</td>\n",
       "      <td>0</td>\n",
       "      <td>0</td>\n",
       "    </tr>\n",
       "  </tbody>\n",
       "</table>\n",
       "<p>1744 rows × 3 columns</p>\n",
       "</div>"
      ],
      "text/plain": [
       "        Chip Transaction  Online Transaction  Swipe Transaction\n",
       "289                    0                   0                  1\n",
       "1265                   1                   0                  0\n",
       "1266                   0                   1                  0\n",
       "2442                   0                   0                  1\n",
       "4198                   0                   0                  1\n",
       "...                  ...                 ...                ...\n",
       "252586                 0                   0                  1\n",
       "114637                 1                   0                  0\n",
       "395897                 1                   0                  0\n",
       "85239                  0                   0                  1\n",
       "6719                   1                   0                  0\n",
       "\n",
       "[1744 rows x 3 columns]"
      ]
     },
     "execution_count": 173,
     "metadata": {},
     "output_type": "execute_result"
    }
   ],
   "source": [
    "cc"
   ]
  },
  {
   "cell_type": "code",
   "execution_count": 174,
   "id": "dcec3449",
   "metadata": {},
   "outputs": [],
   "source": [
    "crd=pd.concat([df,cc],axis=1)"
   ]
  },
  {
   "cell_type": "code",
   "execution_count": 175,
   "id": "0f7c125b",
   "metadata": {},
   "outputs": [
    {
     "name": "stdout",
     "output_type": "stream",
     "text": [
      "<class 'pandas.core.frame.DataFrame'>\n",
      "Index: 1744 entries, 289 to 6719\n",
      "Data columns (total 17 columns):\n",
      " #   Column              Non-Null Count  Dtype  \n",
      "---  ------              --------------  -----  \n",
      " 0   User                1744 non-null   int64  \n",
      " 1   Card                1744 non-null   int64  \n",
      " 2   Year                1744 non-null   int64  \n",
      " 3   Month               1744 non-null   int64  \n",
      " 4   Day                 1744 non-null   int64  \n",
      " 5   Time                1744 non-null   object \n",
      " 6   Amount              1744 non-null   float64\n",
      " 7   Use Chip            1744 non-null   object \n",
      " 8   Merchant Name       1744 non-null   object \n",
      " 9   Merchant City       1744 non-null   object \n",
      " 10  Merchant State      1744 non-null   int64  \n",
      " 11  Zip                 960 non-null    float64\n",
      " 12  MCC                 1744 non-null   int64  \n",
      " 13  Fraud               1744 non-null   int32  \n",
      " 14  Chip Transaction    1744 non-null   int32  \n",
      " 15  Online Transaction  1744 non-null   int32  \n",
      " 16  Swipe Transaction   1744 non-null   int32  \n",
      "dtypes: float64(2), int32(4), int64(7), object(4)\n",
      "memory usage: 218.0+ KB\n"
     ]
    }
   ],
   "source": [
    "crd.info()"
   ]
  },
  {
   "cell_type": "code",
   "execution_count": 176,
   "id": "a48551ae",
   "metadata": {},
   "outputs": [],
   "source": [
    "CCD=crd['Zip']=crd['Zip'].fillna(crd['Zip'].median())"
   ]
  },
  {
   "cell_type": "code",
   "execution_count": 177,
   "id": "6af0f60c",
   "metadata": {},
   "outputs": [
    {
     "data": {
      "image/png": "[encoded data removed]",
      "text/plain": [
       "<Figure size 640x480 with 1 Axes>"
      ]
     },
     "metadata": {},
     "output_type": "display_data"
    }
   ],
   "source": [
    "plt.figure()\n",
    "plt.bar(crd['Fraud'].value_counts(normalize=True).index,\n",
    "        crd['Fraud'].value_counts(normalize=True).values);"
   ]
  },
  {
   "cell_type": "code",
   "execution_count": 178,
   "id": "ab6d3c0b",
   "metadata": {},
   "outputs": [
    {
     "data": {
      "text/plain": [
       "<Axes: xlabel='Fraud', ylabel='count'>"
      ]
     },
     "execution_count": 178,
     "metadata": {},
     "output_type": "execute_result"
    },
    {
     "data": {
      "image/png": "[encoded data removed]",
      "text/plain": [
       "<Figure size 640x480 with 1 Axes>"
      ]
     },
     "metadata": {},
     "output_type": "display_data"
    }
   ],
   "source": [
    "sns.set_style('whitegrid')\n",
    "sns.countplot(x='Fraud' , hue='Use Chip' , data=crd)"
   ]
  },
  {
   "cell_type": "code",
   "execution_count": 179,
   "id": "04c2a531",
   "metadata": {},
   "outputs": [],
   "source": [
    "import pandas as pd\n",
    "import numpy as np\n",
    "import matplotlib.pyplot as plt\n",
    "import seaborn as sns\n",
    "from sklearn.linear_model import LogisticRegression\n",
    "from sklearn.metrics import accuracy_score, classification_report, confusion_matrix\n",
    "from sklearn.metrics import roc_curve, roc_auc_score , auc\n",
    "from sklearn.model_selection import train_test_split\n",
    "from sklearn.preprocessing import StandardScaler\n",
    "from sklearn.neighbors import KNeighborsClassifier"
   ]
  },
  {
   "cell_type": "code",
   "execution_count": 180,
   "id": "30cec3ac",
   "metadata": {},
   "outputs": [
    {
     "name": "stdout",
     "output_type": "stream",
     "text": [
      "<class 'pandas.core.frame.DataFrame'>\n",
      "Index: 1744 entries, 289 to 6719\n",
      "Data columns (total 17 columns):\n",
      " #   Column              Non-Null Count  Dtype  \n",
      "---  ------              --------------  -----  \n",
      " 0   User                1744 non-null   int64  \n",
      " 1   Card                1744 non-null   int64  \n",
      " 2   Year                1744 non-null   int64  \n",
      " 3   Month               1744 non-null   int64  \n",
      " 4   Day                 1744 non-null   int64  \n",
      " 5   Time                1744 non-null   object \n",
      " 6   Amount              1744 non-null   float64\n",
      " 7   Use Chip            1744 non-null   object \n",
      " 8   Merchant Name       1744 non-null   object \n",
      " 9   Merchant City       1744 non-null   object \n",
      " 10  Merchant State      1744 non-null   int64  \n",
      " 11  Zip                 1744 non-null   float64\n",
      " 12  MCC                 1744 non-null   int64  \n",
      " 13  Fraud               1744 non-null   int32  \n",
      " 14  Chip Transaction    1744 non-null   int32  \n",
      " 15  Online Transaction  1744 non-null   int32  \n",
      " 16  Swipe Transaction   1744 non-null   int32  \n",
      "dtypes: float64(2), int32(4), int64(7), object(4)\n",
      "memory usage: 218.0+ KB\n"
     ]
    }
   ],
   "source": [
    "crd.info()"
   ]
  },
  {
   "cell_type": "code",
   "execution_count": 181,
   "id": "c4a5b5ae",
   "metadata": {},
   "outputs": [
    {
     "data": {
      "text/html": [
       "<div>\n",
       "<style scoped>\n",
       "    .dataframe tbody tr th:only-of-type {\n",
       "        vertical-align: middle;\n",
       "    }\n",
       "\n",
       "    .dataframe tbody tr th {\n",
       "        vertical-align: top;\n",
       "    }\n",
       "\n",
       "    .dataframe thead th {\n",
       "        text-align: right;\n",
       "    }\n",
       "</style>\n",
       "<table border=\"1\" class=\"dataframe\">\n",
       "  <thead>\n",
       "    <tr style=\"text-align: right;\">\n",
       "      <th></th>\n",
       "      <th>User</th>\n",
       "      <th>Card</th>\n",
       "      <th>Year</th>\n",
       "      <th>Month</th>\n",
       "      <th>Day</th>\n",
       "      <th>Amount</th>\n",
       "      <th>Merchant State</th>\n",
       "      <th>Zip</th>\n",
       "      <th>MCC</th>\n",
       "      <th>Fraud</th>\n",
       "      <th>Chip Transaction</th>\n",
       "      <th>Online Transaction</th>\n",
       "      <th>Swipe Transaction</th>\n",
       "    </tr>\n",
       "  </thead>\n",
       "  <tbody>\n",
       "    <tr>\n",
       "      <th>count</th>\n",
       "      <td>1744.000000</td>\n",
       "      <td>1744.000000</td>\n",
       "      <td>1744.000000</td>\n",
       "      <td>1744.000000</td>\n",
       "      <td>1744.000000</td>\n",
       "      <td>1744.000000</td>\n",
       "      <td>1744.000000</td>\n",
       "      <td>1744.000000</td>\n",
       "      <td>1744.000000</td>\n",
       "      <td>1744.000000</td>\n",
       "      <td>1744.000000</td>\n",
       "      <td>1744.000000</td>\n",
       "      <td>1744.000000</td>\n",
       "    </tr>\n",
       "    <tr>\n",
       "      <th>mean</th>\n",
       "      <td>1025.639908</td>\n",
       "      <td>1.693234</td>\n",
       "      <td>2012.209289</td>\n",
       "      <td>6.123853</td>\n",
       "      <td>15.846330</td>\n",
       "      <td>71.570642</td>\n",
       "      <td>117.103211</td>\n",
       "      <td>48896.596904</td>\n",
       "      <td>5552.090596</td>\n",
       "      <td>0.500000</td>\n",
       "      <td>0.237385</td>\n",
       "      <td>0.198394</td>\n",
       "      <td>0.564220</td>\n",
       "    </tr>\n",
       "    <tr>\n",
       "      <th>std</th>\n",
       "      <td>571.838765</td>\n",
       "      <td>1.627517</td>\n",
       "      <td>4.835362</td>\n",
       "      <td>3.552996</td>\n",
       "      <td>8.798725</td>\n",
       "      <td>127.494131</td>\n",
       "      <td>123.602279</td>\n",
       "      <td>22272.941897</td>\n",
       "      <td>853.941122</td>\n",
       "      <td>0.500143</td>\n",
       "      <td>0.425602</td>\n",
       "      <td>0.398905</td>\n",
       "      <td>0.496001</td>\n",
       "    </tr>\n",
       "    <tr>\n",
       "      <th>min</th>\n",
       "      <td>2.000000</td>\n",
       "      <td>0.000000</td>\n",
       "      <td>1995.000000</td>\n",
       "      <td>1.000000</td>\n",
       "      <td>1.000000</td>\n",
       "      <td>0.020000</td>\n",
       "      <td>1.000000</td>\n",
       "      <td>1077.000000</td>\n",
       "      <td>3007.000000</td>\n",
       "      <td>0.000000</td>\n",
       "      <td>0.000000</td>\n",
       "      <td>0.000000</td>\n",
       "      <td>0.000000</td>\n",
       "    </tr>\n",
       "    <tr>\n",
       "      <th>25%</th>\n",
       "      <td>544.000000</td>\n",
       "      <td>0.000000</td>\n",
       "      <td>2009.000000</td>\n",
       "      <td>3.000000</td>\n",
       "      <td>8.000000</td>\n",
       "      <td>12.137500</td>\n",
       "      <td>26.000000</td>\n",
       "      <td>41184.250000</td>\n",
       "      <td>5300.000000</td>\n",
       "      <td>0.000000</td>\n",
       "      <td>0.000000</td>\n",
       "      <td>0.000000</td>\n",
       "      <td>0.000000</td>\n",
       "    </tr>\n",
       "    <tr>\n",
       "      <th>50%</th>\n",
       "      <td>1026.500000</td>\n",
       "      <td>1.000000</td>\n",
       "      <td>2013.000000</td>\n",
       "      <td>6.000000</td>\n",
       "      <td>16.000000</td>\n",
       "      <td>38.305000</td>\n",
       "      <td>67.000000</td>\n",
       "      <td>46666.500000</td>\n",
       "      <td>5411.000000</td>\n",
       "      <td>0.500000</td>\n",
       "      <td>0.000000</td>\n",
       "      <td>0.000000</td>\n",
       "      <td>1.000000</td>\n",
       "    </tr>\n",
       "    <tr>\n",
       "      <th>75%</th>\n",
       "      <td>1486.000000</td>\n",
       "      <td>3.000000</td>\n",
       "      <td>2016.000000</td>\n",
       "      <td>9.000000</td>\n",
       "      <td>24.000000</td>\n",
       "      <td>88.755000</td>\n",
       "      <td>144.000000</td>\n",
       "      <td>53106.250000</td>\n",
       "      <td>5813.000000</td>\n",
       "      <td>1.000000</td>\n",
       "      <td>0.000000</td>\n",
       "      <td>0.000000</td>\n",
       "      <td>1.000000</td>\n",
       "    </tr>\n",
       "    <tr>\n",
       "      <th>max</th>\n",
       "      <td>1999.000000</td>\n",
       "      <td>8.000000</td>\n",
       "      <td>2020.000000</td>\n",
       "      <td>12.000000</td>\n",
       "      <td>31.000000</td>\n",
       "      <td>3275.300000</td>\n",
       "      <td>351.000000</td>\n",
       "      <td>99353.000000</td>\n",
       "      <td>9402.000000</td>\n",
       "      <td>1.000000</td>\n",
       "      <td>1.000000</td>\n",
       "      <td>1.000000</td>\n",
       "      <td>1.000000</td>\n",
       "    </tr>\n",
       "  </tbody>\n",
       "</table>\n",
       "</div>"
      ],
      "text/plain": [
       "              User         Card         Year        Month          Day  \\\n",
       "count  1744.000000  1744.000000  1744.000000  1744.000000  1744.000000   \n",
       "mean   1025.639908     1.693234  2012.209289     6.123853    15.846330   \n",
       "std     571.838765     1.627517     4.835362     3.552996     8.798725   \n",
       "min       2.000000     0.000000  1995.000000     1.000000     1.000000   \n",
       "25%     544.000000     0.000000  2009.000000     3.000000     8.000000   \n",
       "50%    1026.500000     1.000000  2013.000000     6.000000    16.000000   \n",
       "75%    1486.000000     3.000000  2016.000000     9.000000    24.000000   \n",
       "max    1999.000000     8.000000  2020.000000    12.000000    31.000000   \n",
       "\n",
       "           Amount   Merchant State           Zip          MCC        Fraud  \\\n",
       "count  1744.000000     1744.000000   1744.000000  1744.000000  1744.000000   \n",
       "mean     71.570642      117.103211  48896.596904  5552.090596     0.500000   \n",
       "std     127.494131      123.602279  22272.941897   853.941122     0.500143   \n",
       "min       0.020000        1.000000   1077.000000  3007.000000     0.000000   \n",
       "25%      12.137500       26.000000  41184.250000  5300.000000     0.000000   \n",
       "50%      38.305000       67.000000  46666.500000  5411.000000     0.500000   \n",
       "75%      88.755000      144.000000  53106.250000  5813.000000     1.000000   \n",
       "max    3275.300000      351.000000  99353.000000  9402.000000     1.000000   \n",
       "\n",
       "       Chip Transaction  Online Transaction  Swipe Transaction  \n",
       "count       1744.000000         1744.000000        1744.000000  \n",
       "mean           0.237385            0.198394           0.564220  \n",
       "std            0.425602            0.398905           0.496001  \n",
       "min            0.000000            0.000000           0.000000  \n",
       "25%            0.000000            0.000000           0.000000  \n",
       "50%            0.000000            0.000000           1.000000  \n",
       "75%            0.000000            0.000000           1.000000  \n",
       "max            1.000000            1.000000           1.000000  "
      ]
     },
     "execution_count": 181,
     "metadata": {},
     "output_type": "execute_result"
    }
   ],
   "source": [
    "crd.describe()"
   ]
  },
  {
   "cell_type": "code",
   "execution_count": 182,
   "id": "24e9df6b",
   "metadata": {},
   "outputs": [
    {
     "data": {
      "text/plain": [
       "Index(['User', 'Card', 'Year', 'Month', 'Day', 'Time', 'Amount ', 'Use Chip',\n",
       "       'Merchant Name', 'Merchant City', 'Merchant State', 'Zip', 'MCC',\n",
       "       'Fraud', 'Chip Transaction', 'Online Transaction', 'Swipe Transaction'],\n",
       "      dtype='object')"
      ]
     },
     "execution_count": 182,
     "metadata": {},
     "output_type": "execute_result"
    }
   ],
   "source": [
    "crd.columns"
   ]
  },
  {
   "cell_type": "code",
   "execution_count": 186,
   "id": "cbeb936e",
   "metadata": {},
   "outputs": [],
   "source": [
    "x=crd.loc[:,['User','Amount ','Chip Transaction', 'Online Transaction',\n",
    "       'Swipe Transaction','Merchant State','Zip','Month'\n",
    "            ]]\n",
    "y=crd['Fraud']"
   ]
  },
  {
   "cell_type": "code",
   "execution_count": 187,
   "id": "7781dbec",
   "metadata": {},
   "outputs": [],
   "source": [
    "X_train,X_test, y_train, y_test=train_test_split(x,y,test_size=0.20,random_state=5)"
   ]
  },
  {
   "cell_type": "code",
   "execution_count": 188,
   "id": "513a6c73",
   "metadata": {},
   "outputs": [
    {
     "data": {
      "text/plain": [
       "(1395, 8)"
      ]
     },
     "execution_count": 188,
     "metadata": {},
     "output_type": "execute_result"
    }
   ],
   "source": [
    "X_train.shape"
   ]
  },
  {
   "cell_type": "code",
   "execution_count": 189,
   "id": "1acc3e78",
   "metadata": {},
   "outputs": [
    {
     "data": {
      "text/plain": [
       "(1395,)"
      ]
     },
     "execution_count": 189,
     "metadata": {},
     "output_type": "execute_result"
    }
   ],
   "source": [
    "y_train.shape"
   ]
  },
  {
   "cell_type": "code",
   "execution_count": 190,
   "id": "27cf5ee9",
   "metadata": {},
   "outputs": [
    {
     "data": {
      "text/plain": [
       "(349, 8)"
      ]
     },
     "execution_count": 190,
     "metadata": {},
     "output_type": "execute_result"
    }
   ],
   "source": [
    "X_test.shape"
   ]
  },
  {
   "cell_type": "code",
   "execution_count": 191,
   "id": "903db81b",
   "metadata": {},
   "outputs": [
    {
     "data": {
      "text/plain": [
       "(349,)"
      ]
     },
     "execution_count": 191,
     "metadata": {},
     "output_type": "execute_result"
    }
   ],
   "source": [
    "y_test.shape"
   ]
  },
  {
   "cell_type": "code",
   "execution_count": 192,
   "id": "b0a36806",
   "metadata": {},
   "outputs": [
    {
     "data": {
      "text/html": [
       "<style>#sk-container-id-1 {color: black;}#sk-container-id-1 pre{padding: 0;}#sk-container-id-1 div.sk-toggleable {background-color: white;}#sk-container-id-1 label.sk-toggleable__label {cursor: pointer;display: block;width: 100%;margin-bottom: 0;padding: 0.3em;box-sizing: border-box;text-align: center;}#sk-container-id-1 label.sk-toggleable__label-arrow:before {content: \"▸\";float: left;margin-right: 0.25em;color: #696969;}#sk-container-id-1 label.sk-toggleable__label-arrow:hover:before {color: black;}#sk-container-id-1 div.sk-estimator:hover label.sk-toggleable__label-arrow:before {color: black;}#sk-container-id-1 div.sk-toggleable__content {max-height: 0;max-width: 0;overflow: hidden;text-align: left;background-color: #f0f8ff;}#sk-container-id-1 div.sk-toggleable__content pre {margin: 0.2em;color: black;border-radius: 0.25em;background-color: #f0f8ff;}#sk-container-id-1 input.sk-toggleable__control:checked~div.sk-toggleable__content {max-height: 200px;max-width: 100%;overflow: auto;}#sk-container-id-1 input.sk-toggleable__control:checked~label.sk-toggleable__label-arrow:before {content: \"▾\";}#sk-container-id-1 div.sk-estimator input.sk-toggleable__control:checked~label.sk-toggleable__label {background-color: #d4ebff;}#sk-container-id-1 div.sk-label input.sk-toggleable__control:checked~label.sk-toggleable__label {background-color: #d4ebff;}#sk-container-id-1 input.sk-hidden--visually {border: 0;clip: rect(1px 1px 1px 1px);clip: rect(1px, 1px, 1px, 1px);height: 1px;margin: -1px;overflow: hidden;padding: 0;position: absolute;width: 1px;}#sk-container-id-1 div.sk-estimator {font-family: monospace;background-color: #f0f8ff;border: 1px dotted black;border-radius: 0.25em;box-sizing: border-box;margin-bottom: 0.5em;}#sk-container-id-1 div.sk-estimator:hover {background-color: #d4ebff;}#sk-container-id-1 div.sk-parallel-item::after {content: \"\";width: 100%;border-bottom: 1px solid gray;flex-grow: 1;}#sk-container-id-1 div.sk-label:hover label.sk-toggleable__label {background-color: #d4ebff;}#sk-container-id-1 div.sk-serial::before {content: \"\";position: absolute;border-left: 1px solid gray;box-sizing: border-box;top: 0;bottom: 0;left: 50%;z-index: 0;}#sk-container-id-1 div.sk-serial {display: flex;flex-direction: column;align-items: center;background-color: white;padding-right: 0.2em;padding-left: 0.2em;position: relative;}#sk-container-id-1 div.sk-item {position: relative;z-index: 1;}#sk-container-id-1 div.sk-parallel {display: flex;align-items: stretch;justify-content: center;background-color: white;position: relative;}#sk-container-id-1 div.sk-item::before, #sk-container-id-1 div.sk-parallel-item::before {content: \"\";position: absolute;border-left: 1px solid gray;box-sizing: border-box;top: 0;bottom: 0;left: 50%;z-index: -1;}#sk-container-id-1 div.sk-parallel-item {display: flex;flex-direction: column;z-index: 1;position: relative;background-color: white;}#sk-container-id-1 div.sk-parallel-item:first-child::after {align-self: flex-end;width: 50%;}#sk-container-id-1 div.sk-parallel-item:last-child::after {align-self: flex-start;width: 50%;}#sk-container-id-1 div.sk-parallel-item:only-child::after {width: 0;}#sk-container-id-1 div.sk-dashed-wrapped {border: 1px dashed gray;margin: 0 0.4em 0.5em 0.4em;box-sizing: border-box;padding-bottom: 0.4em;background-color: white;}#sk-container-id-1 div.sk-label label {font-family: monospace;font-weight: bold;display: inline-block;line-height: 1.2em;}#sk-container-id-1 div.sk-label-container {text-align: center;}#sk-container-id-1 div.sk-container {/* jupyter's `normalize.less` sets `[hidden] { display: none; }` but bootstrap.min.css set `[hidden] { display: none !important; }` so we also need the `!important` here to be able to override the default hidden behavior on the sphinx rendered scikit-learn.org. See: https://github.com/scikit-learn/scikit-learn/issues/21755 */display: inline-block !important;position: relative;}#sk-container-id-1 div.sk-text-repr-fallback {display: none;}</style><div id=\"sk-container-id-1\" class=\"sk-top-container\"><div class=\"sk-text-repr-fallback\"><pre>LogisticRegression()</pre><b>In a Jupyter environment, please rerun this cell to show the HTML representation or trust the notebook. <br />On GitHub, the HTML representation is unable to render, please try loading this page with nbviewer.org.</b></div><div class=\"sk-container\" hidden><div class=\"sk-item\"><div class=\"sk-estimator sk-toggleable\"><input class=\"sk-toggleable__control sk-hidden--visually\" id=\"sk-estimator-id-1\" type=\"checkbox\" checked><label for=\"sk-estimator-id-1\" class=\"sk-toggleable__label sk-toggleable__label-arrow\">LogisticRegression</label><div class=\"sk-toggleable__content\"><pre>LogisticRegression()</pre></div></div></div></div></div>"
      ],
      "text/plain": [
       "LogisticRegression()"
      ]
     },
     "execution_count": 192,
     "metadata": {},
     "output_type": "execute_result"
    }
   ],
   "source": [
    "model=LogisticRegression()\n",
    "model.fit(X_train,y_train)"
   ]
  },
  {
   "cell_type": "code",
   "execution_count": 193,
   "id": "5ca3dd21",
   "metadata": {},
   "outputs": [
    {
     "data": {
      "text/plain": [
       "array([[-2.65609202e-04,  7.10774712e-03, -4.89302611e-06,\n",
       "         3.75565122e-06, -1.97305122e-05,  5.46777116e-03,\n",
       "        -1.41958253e-05, -2.11680344e-04]])"
      ]
     },
     "execution_count": 193,
     "metadata": {},
     "output_type": "execute_result"
    }
   ],
   "source": [
    "model.coef_"
   ]
  },
  {
   "cell_type": "code",
   "execution_count": 194,
   "id": "136566b0",
   "metadata": {},
   "outputs": [
    {
     "data": {
      "text/plain": [
       "array([-2.08678893e-05])"
      ]
     },
     "execution_count": 194,
     "metadata": {},
     "output_type": "execute_result"
    }
   ],
   "source": [
    "model.intercept_"
   ]
  },
  {
   "cell_type": "code",
   "execution_count": 195,
   "id": "0fb020c2",
   "metadata": {},
   "outputs": [
    {
     "name": "stdout",
     "output_type": "stream",
     "text": [
      "the accuracy of the training data is 67.02508960573476\n"
     ]
    }
   ],
   "source": [
    "train_acc=model.score(X_train,y_train)\n",
    "print(\"the accuracy of the training data is {}\".format(train_acc*100))"
   ]
  },
  {
   "cell_type": "code",
   "execution_count": 196,
   "id": "8961cbe5",
   "metadata": {},
   "outputs": [
    {
     "name": "stdout",
     "output_type": "stream",
     "text": [
      "The Accuracy for Test Set is 65.61604584527221\n"
     ]
    }
   ],
   "source": [
    "y_pred = model.predict(X_test)\n",
    "probs = model.predict_proba(X_test)\n",
    "y_pred_probs = probs[:,1]\n",
    "test_acc = accuracy_score(y_test, y_pred)\n",
    "print(\"The Accuracy for Test Set is {}\".format(test_acc*100))"
   ]
  },
  {
   "cell_type": "code",
   "execution_count": 197,
   "id": "12ce4ed7",
   "metadata": {},
   "outputs": [
    {
     "name": "stdout",
     "output_type": "stream",
     "text": [
      "              precision    recall  f1-score   support\n",
      "\n",
      "           0       0.64      0.74      0.69       177\n",
      "           1       0.68      0.57      0.62       172\n",
      "\n",
      "    accuracy                           0.66       349\n",
      "   macro avg       0.66      0.65      0.65       349\n",
      "weighted avg       0.66      0.66      0.65       349\n",
      "\n"
     ]
    }
   ],
   "source": [
    "print(classification_report(y_test,y_pred))"
   ]
  },
  {
   "cell_type": "code",
   "execution_count": 198,
   "id": "eaf9257c",
   "metadata": {},
   "outputs": [
    {
     "data": {
      "image/png": "[encoded data removed]",
      "text/plain": [
       "<Figure size 1200x600 with 2 Axes>"
      ]
     },
     "metadata": {},
     "output_type": "display_data"
    }
   ],
   "source": [
    "cm=confusion_matrix(y_test,y_pred)\n",
    "plt.figure(figsize=(12,6))\n",
    "plt.title(\"Confusion Matrix\")\n",
    "sns.heatmap(cm, annot=True,fmt='d', cmap='Blues')\n",
    "plt.ylabel(\"Actual Values\")\n",
    "plt.xlabel(\"Predicted Values\")\n",
    "plt.savefig('confusion_matrix.png')"
   ]
  },
  {
   "cell_type": "code",
   "execution_count": 199,
   "id": "793b8365",
   "metadata": {},
   "outputs": [],
   "source": [
    "train_fpr, train_tpr, threshold = roc_curve(y_train, model.predict_proba(X_train)[:, 1])\n",
    "train_roc_auc = auc(train_fpr, train_tpr)"
   ]
  },
  {
   "cell_type": "code",
   "execution_count": 200,
   "id": "ffdca8bd",
   "metadata": {},
   "outputs": [],
   "source": [
    "test_fpr, test_tpr, threshold = roc_curve(y_test, y_pred_probs)\n",
    "test_roc_auc = auc(test_fpr, test_tpr)"
   ]
  },
  {
   "cell_type": "code",
   "execution_count": 201,
   "id": "f167f785",
   "metadata": {},
   "outputs": [
    {
     "data": {
      "image/png": "[encoded data removed]",
      "text/plain": [
       "<Figure size 640x480 with 1 Axes>"
      ]
     },
     "metadata": {},
     "output_type": "display_data"
    }
   ],
   "source": [
    "import matplotlib.pyplot as plt\n",
    "plt.title('Receiver Operating Characteristic')\n",
    "plt.plot(train_fpr, train_tpr, 'b', label = 'Train AUC = %0.2f' % train_roc_auc)\n",
    "plt.plot(test_fpr, test_tpr, 'g', label = 'Test AUC = %0.2f' % test_roc_auc)\n",
    "plt.legend(loc = 'lower right')\n",
    "plt.plot([0, 1], [0, 1],'r--')\n",
    "plt.xlim([0, 1])\n",
    "plt.ylim([0, 1])\n",
    "plt.ylabel('True Positive Rate')\n",
    "plt.xlabel('False Positive Rate')\n",
    "plt.show()"
   ]
  },
  {
   "cell_type": "code",
   "execution_count": 204,
   "id": "1fb36f53",
   "metadata": {},
   "outputs": [],
   "source": [
    "crd1=crd.loc[:,['User', 'Card', 'Year', 'Month', 'Day', 'Amount ', 'Merchant State', 'Zip', 'MCC',\n",
    "       'Fraud']]"
   ]
  },
  {
   "cell_type": "code",
   "execution_count": 205,
   "id": "fa56847a",
   "metadata": {},
   "outputs": [
    {
     "data": {
      "text/html": [
       "<div>\n",
       "<style scoped>\n",
       "    .dataframe tbody tr th:only-of-type {\n",
       "        vertical-align: middle;\n",
       "    }\n",
       "\n",
       "    .dataframe tbody tr th {\n",
       "        vertical-align: top;\n",
       "    }\n",
       "\n",
       "    .dataframe thead th {\n",
       "        text-align: right;\n",
       "    }\n",
       "</style>\n",
       "<table border=\"1\" class=\"dataframe\">\n",
       "  <thead>\n",
       "    <tr style=\"text-align: right;\">\n",
       "      <th></th>\n",
       "      <th>User</th>\n",
       "      <th>Card</th>\n",
       "      <th>Year</th>\n",
       "      <th>Month</th>\n",
       "      <th>Day</th>\n",
       "      <th>Amount</th>\n",
       "      <th>Merchant State</th>\n",
       "      <th>Zip</th>\n",
       "      <th>MCC</th>\n",
       "      <th>Fraud</th>\n",
       "    </tr>\n",
       "  </thead>\n",
       "  <tbody>\n",
       "    <tr>\n",
       "      <th>289</th>\n",
       "      <td>2</td>\n",
       "      <td>1</td>\n",
       "      <td>2012</td>\n",
       "      <td>9</td>\n",
       "      <td>25</td>\n",
       "      <td>159.91</td>\n",
       "      <td>104</td>\n",
       "      <td>46666.5</td>\n",
       "      <td>5310</td>\n",
       "      <td>1</td>\n",
       "    </tr>\n",
       "    <tr>\n",
       "      <th>1265</th>\n",
       "      <td>3</td>\n",
       "      <td>3</td>\n",
       "      <td>2016</td>\n",
       "      <td>12</td>\n",
       "      <td>11</td>\n",
       "      <td>6.83</td>\n",
       "      <td>25</td>\n",
       "      <td>46666.5</td>\n",
       "      <td>5411</td>\n",
       "      <td>1</td>\n",
       "    </tr>\n",
       "    <tr>\n",
       "      <th>1266</th>\n",
       "      <td>3</td>\n",
       "      <td>3</td>\n",
       "      <td>2016</td>\n",
       "      <td>12</td>\n",
       "      <td>11</td>\n",
       "      <td>15.00</td>\n",
       "      <td>351</td>\n",
       "      <td>46666.5</td>\n",
       "      <td>5814</td>\n",
       "      <td>1</td>\n",
       "    </tr>\n",
       "    <tr>\n",
       "      <th>2442</th>\n",
       "      <td>6</td>\n",
       "      <td>1</td>\n",
       "      <td>2012</td>\n",
       "      <td>4</td>\n",
       "      <td>25</td>\n",
       "      <td>131.83</td>\n",
       "      <td>38</td>\n",
       "      <td>46666.5</td>\n",
       "      <td>5310</td>\n",
       "      <td>1</td>\n",
       "    </tr>\n",
       "    <tr>\n",
       "      <th>4198</th>\n",
       "      <td>13</td>\n",
       "      <td>2</td>\n",
       "      <td>2008</td>\n",
       "      <td>6</td>\n",
       "      <td>29</td>\n",
       "      <td>19.17</td>\n",
       "      <td>103</td>\n",
       "      <td>46666.5</td>\n",
       "      <td>5311</td>\n",
       "      <td>1</td>\n",
       "    </tr>\n",
       "    <tr>\n",
       "      <th>...</th>\n",
       "      <td>...</td>\n",
       "      <td>...</td>\n",
       "      <td>...</td>\n",
       "      <td>...</td>\n",
       "      <td>...</td>\n",
       "      <td>...</td>\n",
       "      <td>...</td>\n",
       "      <td>...</td>\n",
       "      <td>...</td>\n",
       "      <td>...</td>\n",
       "    </tr>\n",
       "    <tr>\n",
       "      <th>252586</th>\n",
       "      <td>733</td>\n",
       "      <td>0</td>\n",
       "      <td>2005</td>\n",
       "      <td>1</td>\n",
       "      <td>4</td>\n",
       "      <td>171.76</td>\n",
       "      <td>36</td>\n",
       "      <td>60605.0</td>\n",
       "      <td>8021</td>\n",
       "      <td>0</td>\n",
       "    </tr>\n",
       "    <tr>\n",
       "      <th>114637</th>\n",
       "      <td>339</td>\n",
       "      <td>1</td>\n",
       "      <td>2019</td>\n",
       "      <td>6</td>\n",
       "      <td>5</td>\n",
       "      <td>86.95</td>\n",
       "      <td>67</td>\n",
       "      <td>13606.0</td>\n",
       "      <td>5812</td>\n",
       "      <td>0</td>\n",
       "    </tr>\n",
       "    <tr>\n",
       "      <th>395897</th>\n",
       "      <td>1122</td>\n",
       "      <td>0</td>\n",
       "      <td>2018</td>\n",
       "      <td>1</td>\n",
       "      <td>1</td>\n",
       "      <td>57.13</td>\n",
       "      <td>67</td>\n",
       "      <td>11772.0</td>\n",
       "      <td>5812</td>\n",
       "      <td>0</td>\n",
       "    </tr>\n",
       "    <tr>\n",
       "      <th>85239</th>\n",
       "      <td>262</td>\n",
       "      <td>6</td>\n",
       "      <td>2014</td>\n",
       "      <td>1</td>\n",
       "      <td>20</td>\n",
       "      <td>59.52</td>\n",
       "      <td>46</td>\n",
       "      <td>34953.0</td>\n",
       "      <td>5311</td>\n",
       "      <td>0</td>\n",
       "    </tr>\n",
       "    <tr>\n",
       "      <th>6719</th>\n",
       "      <td>18</td>\n",
       "      <td>2</td>\n",
       "      <td>2018</td>\n",
       "      <td>1</td>\n",
       "      <td>25</td>\n",
       "      <td>10.46</td>\n",
       "      <td>31</td>\n",
       "      <td>46666.5</td>\n",
       "      <td>7230</td>\n",
       "      <td>0</td>\n",
       "    </tr>\n",
       "  </tbody>\n",
       "</table>\n",
       "<p>1744 rows × 10 columns</p>\n",
       "</div>"
      ],
      "text/plain": [
       "        User  Card  Year  Month  Day  Amount   Merchant State      Zip   MCC  \\\n",
       "289        2     1  2012      9   25   159.91             104  46666.5  5310   \n",
       "1265       3     3  2016     12   11     6.83              25  46666.5  5411   \n",
       "1266       3     3  2016     12   11    15.00             351  46666.5  5814   \n",
       "2442       6     1  2012      4   25   131.83              38  46666.5  5310   \n",
       "4198      13     2  2008      6   29    19.17             103  46666.5  5311   \n",
       "...      ...   ...   ...    ...  ...      ...             ...      ...   ...   \n",
       "252586   733     0  2005      1    4   171.76              36  60605.0  8021   \n",
       "114637   339     1  2019      6    5    86.95              67  13606.0  5812   \n",
       "395897  1122     0  2018      1    1    57.13              67  11772.0  5812   \n",
       "85239    262     6  2014      1   20    59.52              46  34953.0  5311   \n",
       "6719      18     2  2018      1   25    10.46              31  46666.5  7230   \n",
       "\n",
       "        Fraud  \n",
       "289         1  \n",
       "1265        1  \n",
       "1266        1  \n",
       "2442        1  \n",
       "4198        1  \n",
       "...       ...  \n",
       "252586      0  \n",
       "114637      0  \n",
       "395897      0  \n",
       "85239       0  \n",
       "6719        0  \n",
       "\n",
       "[1744 rows x 10 columns]"
      ]
     },
     "execution_count": 205,
     "metadata": {},
     "output_type": "execute_result"
    }
   ],
   "source": [
    "crd1"
   ]
  },
  {
   "cell_type": "code",
   "execution_count": 206,
   "id": "be37bfbd",
   "metadata": {},
   "outputs": [
    {
     "data": {
      "text/html": [
       "<div>\n",
       "<style scoped>\n",
       "    .dataframe tbody tr th:only-of-type {\n",
       "        vertical-align: middle;\n",
       "    }\n",
       "\n",
       "    .dataframe tbody tr th {\n",
       "        vertical-align: top;\n",
       "    }\n",
       "\n",
       "    .dataframe thead th {\n",
       "        text-align: right;\n",
       "    }\n",
       "</style>\n",
       "<table border=\"1\" class=\"dataframe\">\n",
       "  <thead>\n",
       "    <tr style=\"text-align: right;\">\n",
       "      <th></th>\n",
       "      <th>Amount</th>\n",
       "      <th>Day</th>\n",
       "      <th>Card</th>\n",
       "      <th>User</th>\n",
       "      <th>Zip</th>\n",
       "      <th>Year</th>\n",
       "      <th>Month</th>\n",
       "      <th>MCC</th>\n",
       "      <th>Merchant State</th>\n",
       "    </tr>\n",
       "  </thead>\n",
       "  <tbody>\n",
       "    <tr>\n",
       "      <th>0</th>\n",
       "      <td>0.693088</td>\n",
       "      <td>1.040639</td>\n",
       "      <td>-0.426068</td>\n",
       "      <td>-1.790598</td>\n",
       "      <td>-0.100155</td>\n",
       "      <td>-0.043295</td>\n",
       "      <td>0.809731</td>\n",
       "      <td>-0.283579</td>\n",
       "      <td>-0.106041</td>\n",
       "    </tr>\n",
       "    <tr>\n",
       "      <th>1</th>\n",
       "      <td>-0.507939</td>\n",
       "      <td>-0.550957</td>\n",
       "      <td>0.803150</td>\n",
       "      <td>-1.788849</td>\n",
       "      <td>-0.100155</td>\n",
       "      <td>0.784181</td>\n",
       "      <td>1.654331</td>\n",
       "      <td>-0.165270</td>\n",
       "      <td>-0.745372</td>\n",
       "    </tr>\n",
       "    <tr>\n",
       "      <th>2</th>\n",
       "      <td>-0.443839</td>\n",
       "      <td>-0.550957</td>\n",
       "      <td>0.803150</td>\n",
       "      <td>-1.788849</td>\n",
       "      <td>-0.100155</td>\n",
       "      <td>0.784181</td>\n",
       "      <td>1.654331</td>\n",
       "      <td>0.306795</td>\n",
       "      <td>1.892877</td>\n",
       "    </tr>\n",
       "    <tr>\n",
       "      <th>3</th>\n",
       "      <td>0.472780</td>\n",
       "      <td>1.040639</td>\n",
       "      <td>-0.426068</td>\n",
       "      <td>-1.783601</td>\n",
       "      <td>-0.100155</td>\n",
       "      <td>-0.043295</td>\n",
       "      <td>-0.597936</td>\n",
       "      <td>-0.283579</td>\n",
       "      <td>-0.640165</td>\n",
       "    </tr>\n",
       "    <tr>\n",
       "      <th>4</th>\n",
       "      <td>-0.411122</td>\n",
       "      <td>1.495381</td>\n",
       "      <td>0.188541</td>\n",
       "      <td>-1.771357</td>\n",
       "      <td>-0.100155</td>\n",
       "      <td>-0.870772</td>\n",
       "      <td>-0.034869</td>\n",
       "      <td>-0.282408</td>\n",
       "      <td>-0.114134</td>\n",
       "    </tr>\n",
       "  </tbody>\n",
       "</table>\n",
       "</div>"
      ],
      "text/plain": [
       "    Amount        Day      Card      User       Zip      Year     Month  \\\n",
       "0  0.693088  1.040639 -0.426068 -1.790598 -0.100155 -0.043295  0.809731   \n",
       "1 -0.507939 -0.550957  0.803150 -1.788849 -0.100155  0.784181  1.654331   \n",
       "2 -0.443839 -0.550957  0.803150 -1.788849 -0.100155  0.784181  1.654331   \n",
       "3  0.472780  1.040639 -0.426068 -1.783601 -0.100155 -0.043295 -0.597936   \n",
       "4 -0.411122  1.495381  0.188541 -1.771357 -0.100155 -0.870772 -0.034869   \n",
       "\n",
       "        MCC  Merchant State  \n",
       "0 -0.283579       -0.106041  \n",
       "1 -0.165270       -0.745372  \n",
       "2  0.306795        1.892877  \n",
       "3 -0.283579       -0.640165  \n",
       "4 -0.282408       -0.114134  "
      ]
     },
     "execution_count": 206,
     "metadata": {},
     "output_type": "execute_result"
    }
   ],
   "source": [
    "scaler=StandardScaler()\n",
    "selected_feat = list(set(crd1.columns.tolist()) - set(['Fraud']))\n",
    "\n",
    "scaler.fit(crd1[selected_feat])\n",
    "scaled_features = scaler.transform(crd1[selected_feat])\n",
    " \n",
    "wc_feat = pd.DataFrame(scaled_features, columns=selected_feat)\n",
    "wc_feat.head()\n"
   ]
  },
  {
   "cell_type": "code",
   "execution_count": 207,
   "id": "d62fff61",
   "metadata": {},
   "outputs": [
    {
     "data": {
      "text/html": [
       "<style>#sk-container-id-2 {color: black;}#sk-container-id-2 pre{padding: 0;}#sk-container-id-2 div.sk-toggleable {background-color: white;}#sk-container-id-2 label.sk-toggleable__label {cursor: pointer;display: block;width: 100%;margin-bottom: 0;padding: 0.3em;box-sizing: border-box;text-align: center;}#sk-container-id-2 label.sk-toggleable__label-arrow:before {content: \"▸\";float: left;margin-right: 0.25em;color: #696969;}#sk-container-id-2 label.sk-toggleable__label-arrow:hover:before {color: black;}#sk-container-id-2 div.sk-estimator:hover label.sk-toggleable__label-arrow:before {color: black;}#sk-container-id-2 div.sk-toggleable__content {max-height: 0;max-width: 0;overflow: hidden;text-align: left;background-color: #f0f8ff;}#sk-container-id-2 div.sk-toggleable__content pre {margin: 0.2em;color: black;border-radius: 0.25em;background-color: #f0f8ff;}#sk-container-id-2 input.sk-toggleable__control:checked~div.sk-toggleable__content {max-height: 200px;max-width: 100%;overflow: auto;}#sk-container-id-2 input.sk-toggleable__control:checked~label.sk-toggleable__label-arrow:before {content: \"▾\";}#sk-container-id-2 div.sk-estimator input.sk-toggleable__control:checked~label.sk-toggleable__label {background-color: #d4ebff;}#sk-container-id-2 div.sk-label input.sk-toggleable__control:checked~label.sk-toggleable__label {background-color: #d4ebff;}#sk-container-id-2 input.sk-hidden--visually {border: 0;clip: rect(1px 1px 1px 1px);clip: rect(1px, 1px, 1px, 1px);height: 1px;margin: -1px;overflow: hidden;padding: 0;position: absolute;width: 1px;}#sk-container-id-2 div.sk-estimator {font-family: monospace;background-color: #f0f8ff;border: 1px dotted black;border-radius: 0.25em;box-sizing: border-box;margin-bottom: 0.5em;}#sk-container-id-2 div.sk-estimator:hover {background-color: #d4ebff;}#sk-container-id-2 div.sk-parallel-item::after {content: \"\";width: 100%;border-bottom: 1px solid gray;flex-grow: 1;}#sk-container-id-2 div.sk-label:hover label.sk-toggleable__label {background-color: #d4ebff;}#sk-container-id-2 div.sk-serial::before {content: \"\";position: absolute;border-left: 1px solid gray;box-sizing: border-box;top: 0;bottom: 0;left: 50%;z-index: 0;}#sk-container-id-2 div.sk-serial {display: flex;flex-direction: column;align-items: center;background-color: white;padding-right: 0.2em;padding-left: 0.2em;position: relative;}#sk-container-id-2 div.sk-item {position: relative;z-index: 1;}#sk-container-id-2 div.sk-parallel {display: flex;align-items: stretch;justify-content: center;background-color: white;position: relative;}#sk-container-id-2 div.sk-item::before, #sk-container-id-2 div.sk-parallel-item::before {content: \"\";position: absolute;border-left: 1px solid gray;box-sizing: border-box;top: 0;bottom: 0;left: 50%;z-index: -1;}#sk-container-id-2 div.sk-parallel-item {display: flex;flex-direction: column;z-index: 1;position: relative;background-color: white;}#sk-container-id-2 div.sk-parallel-item:first-child::after {align-self: flex-end;width: 50%;}#sk-container-id-2 div.sk-parallel-item:last-child::after {align-self: flex-start;width: 50%;}#sk-container-id-2 div.sk-parallel-item:only-child::after {width: 0;}#sk-container-id-2 div.sk-dashed-wrapped {border: 1px dashed gray;margin: 0 0.4em 0.5em 0.4em;box-sizing: border-box;padding-bottom: 0.4em;background-color: white;}#sk-container-id-2 div.sk-label label {font-family: monospace;font-weight: bold;display: inline-block;line-height: 1.2em;}#sk-container-id-2 div.sk-label-container {text-align: center;}#sk-container-id-2 div.sk-container {/* jupyter's `normalize.less` sets `[hidden] { display: none; }` but bootstrap.min.css set `[hidden] { display: none !important; }` so we also need the `!important` here to be able to override the default hidden behavior on the sphinx rendered scikit-learn.org. See: https://github.com/scikit-learn/scikit-learn/issues/21755 */display: inline-block !important;position: relative;}#sk-container-id-2 div.sk-text-repr-fallback {display: none;}</style><div id=\"sk-container-id-2\" class=\"sk-top-container\"><div class=\"sk-text-repr-fallback\"><pre>KNeighborsClassifier(n_neighbors=10)</pre><b>In a Jupyter environment, please rerun this cell to show the HTML representation or trust the notebook. <br />On GitHub, the HTML representation is unable to render, please try loading this page with nbviewer.org.</b></div><div class=\"sk-container\" hidden><div class=\"sk-item\"><div class=\"sk-estimator sk-toggleable\"><input class=\"sk-toggleable__control sk-hidden--visually\" id=\"sk-estimator-id-2\" type=\"checkbox\" checked><label for=\"sk-estimator-id-2\" class=\"sk-toggleable__label sk-toggleable__label-arrow\">KNeighborsClassifier</label><div class=\"sk-toggleable__content\"><pre>KNeighborsClassifier(n_neighbors=10)</pre></div></div></div></div></div>"
      ],
      "text/plain": [
       "KNeighborsClassifier(n_neighbors=10)"
      ]
     },
     "execution_count": 207,
     "metadata": {},
     "output_type": "execute_result"
    }
   ],
   "source": [
    "knn = KNeighborsClassifier(n_neighbors=10)\n",
    "knn.fit(X_train, y_train)"
   ]
  },
  {
   "cell_type": "code",
   "execution_count": 208,
   "id": "93de828d",
   "metadata": {},
   "outputs": [
    {
     "data": {
      "text/plain": [
       "<Axes: >"
      ]
     },
     "execution_count": 208,
     "metadata": {},
     "output_type": "execute_result"
    },
    {
     "data": {
      "image/png": "[encoded data removed]",
      "text/plain": [
       "<Figure size 640x480 with 1 Axes>"
      ]
     },
     "metadata": {},
     "output_type": "display_data"
    }
   ],
   "source": [
    "test_auc_list = []\n",
    "k_list = [1, 2, 3, 4, 5, 7, 10, 12, 15, 20, 50, 70, 100]\n",
    "for k in k_list:\n",
    "    knn = KNeighborsClassifier(n_neighbors=k)\n",
    "    knn.fit(X_train, y_train)\n",
    "    y_pred = knn.predict(X_test)\n",
    "    test_auc_list.append(accuracy_score(y_test, y_pred))\n",
    "\n",
    "sns.lineplot(x=k_list, y=test_auc_list)"
   ]
  },
  {
   "cell_type": "code",
   "execution_count": 209,
   "id": "d0b4c0e9",
   "metadata": {},
   "outputs": [
    {
     "name": "stdout",
     "output_type": "stream",
     "text": [
      "The Accuracy for Training Set is 79.92831541218638\n"
     ]
    }
   ],
   "source": [
    "train_acc = knn.score(X_train, y_train)\n",
    "print(\"The Accuracy for Training Set is {}\".format(train_acc*100))"
   ]
  },
  {
   "cell_type": "code",
   "execution_count": 210,
   "id": "1d921b87",
   "metadata": {},
   "outputs": [
    {
     "name": "stdout",
     "output_type": "stream",
     "text": [
      "The Accuracy for Test Set is 80.51575931232091\n"
     ]
    }
   ],
   "source": [
    "y_pred = knn.predict(X_test)\n",
    "probs = knn.predict_proba(X_test)\n",
    "y_pred_probs = probs[:,1]\n",
    "test_acc = accuracy_score(y_test, y_pred)\n",
    "print(\"The Accuracy for Test Set is {}\".format(test_acc*100))"
   ]
  },
  {
   "cell_type": "code",
   "execution_count": 211,
   "id": "8ce59c15",
   "metadata": {},
   "outputs": [
    {
     "name": "stdout",
     "output_type": "stream",
     "text": [
      "              precision    recall  f1-score   support\n",
      "\n",
      "           0       0.83      0.77      0.80       177\n",
      "           1       0.78      0.84      0.81       172\n",
      "\n",
      "    accuracy                           0.81       349\n",
      "   macro avg       0.81      0.81      0.81       349\n",
      "weighted avg       0.81      0.81      0.80       349\n",
      "\n"
     ]
    }
   ],
   "source": [
    "print(classification_report(y_test,y_pred))"
   ]
  },
  {
   "cell_type": "code",
   "execution_count": 212,
   "id": "5a6e8351",
   "metadata": {},
   "outputs": [
    {
     "data": {
      "image/png": "[encoded data removed]",
      "text/plain": [
       "<Figure size 1200x600 with 2 Axes>"
      ]
     },
     "metadata": {},
     "output_type": "display_data"
    }
   ],
   "source": [
    "cm=confusion_matrix(y_test,y_pred)\n",
    "plt.figure(figsize=(12,6))\n",
    "plt.title(\"Confusion Matrix\")\n",
    "sns.heatmap(cm, annot=True,fmt='d', cmap='Blues')\n",
    "plt.ylabel(\"Actual Values\")\n",
    "plt.xlabel(\"Predicted Values\")\n",
    "plt.savefig('confusion_matrix.png')"
   ]
  },
  {
   "cell_type": "code",
   "execution_count": 213,
   "id": "ac4ebccc",
   "metadata": {},
   "outputs": [],
   "source": [
    "train_fpr, train_tpr, threshold = roc_curve(y_train, knn.predict_proba(X_train)[:, 1])\n",
    "train_roc_auc = auc(train_fpr, train_tpr)\n",
    "test_fpr, test_tpr, threshold = roc_curve(y_test, y_pred_probs)\n",
    "test_roc_auc = auc(test_fpr, test_tpr)"
   ]
  },
  {
   "cell_type": "code",
   "execution_count": 214,
   "id": "2704a722",
   "metadata": {},
   "outputs": [
    {
     "data": {
      "image/png": "[encoded data removed]",
      "text/plain": [
       "<Figure size 640x480 with 1 Axes>"
      ]
     },
     "metadata": {},
     "output_type": "display_data"
    }
   ],
   "source": [
    "import matplotlib.pyplot as plt\n",
    "plt.title('Receiver Operating Characteristic')\n",
    "plt.plot(train_fpr, train_tpr, 'b', label = 'Train AUC = %0.2f' % train_roc_auc)\n",
    "plt.plot(test_fpr, test_tpr, 'g', label = 'Test AUC = %0.2f' % test_roc_auc)\n",
    "plt.legend(loc = 'lower right')\n",
    "plt.plot([0, 1], [0, 1],'r--')\n",
    "plt.xlim([0, 1])\n",
    "plt.ylim([0, 1])\n",
    "plt.ylabel('True Positive Rate')\n",
    "plt.xlabel('False Positive Rate')\n",
    "plt.show()"
   ]
  },
  {
   "cell_type": "code",
   "execution_count": null,
   "id": "0d28f998",
   "metadata": {},
   "outputs": [],
   "source": []
  }
 ],
 "metadata": {
  "kernelspec": {
   "display_name": "Python 3 (ipykernel)",
   "language": "python",
   "name": "python3"
  },
  "language_info": {
   "codemirror_mode": {
    "name": "ipython",
    "version": 3
   },
   "file_extension": ".py",
   "mimetype": "text/x-python",
   "name": "python",
   "nbconvert_exporter": "python",
   "pygments_lexer": "ipython3",
   "version": "3.11.5"
  }
 },
 "nbformat": 4,
 "nbformat_minor": 5
}
